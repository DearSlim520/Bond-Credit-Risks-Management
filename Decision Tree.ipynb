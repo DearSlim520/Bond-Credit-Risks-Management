{
 "cells": [
  {
   "cell_type": "markdown",
   "metadata": {},
   "source": [
    "# 四、决策树相关算法模型"
   ]
  },
  {
   "cell_type": "markdown",
   "metadata": {},
   "source": [
    "## 1.  引用包"
   ]
  },
  {
   "cell_type": "code",
   "execution_count": 20,
   "metadata": {},
   "outputs": [],
   "source": [
    "#-*- coding: utf-8 -*-\n",
    "from sklearn.datasets import load_iris\n",
    "from sklearn import tree\n",
    "from sklearn.model_selection import train_test_split, cross_val_score\n",
    "from sklearn.feature_extraction import DictVectorizer\n",
    "from sklearn.tree import DecisionTreeClassifier, plot_tree\n",
    "import pydotplus\n",
    "import matplotlib.pyplot as plt\n",
    "import os\n",
    "import pandas as pd\n",
    "import numpy as np\n",
    "from itertools import product\n",
    "from IPython.display import Image\n",
    "import re"
   ]
  },
  {
   "cell_type": "markdown",
   "metadata": {},
   "source": [
    "## 2. 数据处理 "
   ]
  },
  {
   "cell_type": "code",
   "execution_count": 21,
   "metadata": {
    "scrolled": true
   },
   "outputs": [],
   "source": [
    "### （1）读数据和简单筛选 ###\n",
    "\n",
    "# 1. 从⽂文件中读取原始数据\n",
    "file_spread = '../数据集/债明细-生数据集.xlsx'           ###\n",
    "df=pd.read_excel(file_spread)\n",
    "\n",
    "# 2. 按照指标分别删除0行\n",
    "titles = ['ROE', 'ROA', 'ROS', 'ROIC', '总资产周转率','流动资产周转率','存货周转率','应收账款周转率','资产负债率','流动比率','速动比率','现金比率','利息保障倍数','销售收入增长率','净利润增长率','总资产增长率','经营活动现金流净额占比','投资活动现金流净额占比','筹资活动现金流净额占比','国内生产总值','居民消费价格指数增长率','一般预算收入','spread','scoring']\n",
    "titles2 = ['ROE', 'ROA', 'ROS', 'ROIC', '总资产周转率','流动资产周转率','存货周转率','应收账款周转率','资产负债率','流动比率','速动比率','现金比率','利息保障倍数','销售收入增长率','净利润增长率','总资产增长率','经营活动现金流净额占比','投资活动现金流净额占比','筹资活动现金流净额占比','国内生产总值','居民消费价格指数增长率','一般预算收入','spread']\n",
    "for t in titles:\n",
    "    if t != '居民消费价格指数增长率':\n",
    "        df = df[df[t]!=0]\n",
    "\n",
    "# 3. 删除不必要\n",
    "df.drop(['发行人','发行规模','债券余额','发行期限','票面利率(发行参考)','上市日期','起息日','到期日','发行人省份','城市','起息日期'],axis=1,inplace=True)\n",
    "\n",
    "# 4. df乱序\n",
    "df = df.reindex(np.random.permutation(df.index))"
   ]
  },
  {
   "cell_type": "code",
   "execution_count": 22,
   "metadata": {},
   "outputs": [],
   "source": [
    "# 5. 存取筛选后的数据\n",
    "ROE = df[titles[0]].values.tolist()   #盈利能力\n",
    "ROA = df[titles[1]].values.tolist()\n",
    "ROS = df[titles[2]].values.tolist() \n",
    "ROIC = df[titles[3]].values.tolist()\n",
    "\n",
    "total_turnover = df[titles[4]].values.tolist()  #营运能力\n",
    "flow_turnover = df[titles[5]].values.tolist()\n",
    "inventory_turnover = df[titles[6]].values.tolist()\n",
    "receive_turnover = df[titles[7]].values.tolist()\n",
    "\n",
    "debt_r = df[titles[8]].values.tolist()   #负债情况\n",
    "flow_r = df[titles[9]].values.tolist()\n",
    "quick_r = df[titles[10]].values.tolist()\n",
    "cash_r = df[titles[11]].values.tolist()\n",
    "interest_mul = df[titles[12]].values.tolist()\n",
    "\n",
    "sales = df[titles[13]].values.tolist()  #成长能力\n",
    "profit = df[titles[14]].values.tolist()\n",
    "assets = df[titles[15]].values.tolist()\n",
    "\n",
    "business = df[titles[16]].values.tolist()   #现金流情况\n",
    "invest = df[titles[17]].values.tolist()\n",
    "finance = df[titles[18]].values.tolist() \n",
    "\n",
    "gdp = df[titles[19]].values.tolist()   #宏观\n",
    "cpi = df[titles[20]].values.tolist()\n",
    "budget = df[titles[21]].values.tolist()\n",
    "spread = df[titles[22]].values.tolist()\n",
    "\n",
    "# 6. 列重命名\n",
    "df.rename(columns={'总资产周转率':'TAT','流动资产周转率':'CAT','存货周转率':'ITR','应收账款周转率':'RTR', \n",
    "                   '资产负债率':'Debt','流动比率':'Flow','速动比率':'Quick','现金比率':'Cash','利息保障倍数':'Interest',\n",
    "                   '销售收入增长率':'Sales','净利润增长率':'Profit','总资产增长率':'Assets',\n",
    "                   '经营活动现金流净额占比':'Business','投资活动现金流净额占比':'Invest','筹资活动现金流净额占比':'Finance',\n",
    "                   '国内生产总值':'GDP','居民消费价格指数增长率':'CPI','一般预算收入':'Budget'\n",
    "                  }, inplace = True)\n",
    "\n",
    "# 7. 转为array形式\n",
    "dataset = np.array(df)"
   ]
  },
  {
   "cell_type": "code",
   "execution_count": 23,
   "metadata": {},
   "outputs": [
    {
     "name": "stdout",
     "output_type": "stream",
     "text": [
      "[[1.51190000e+00 1.42520000e+00 1.63373000e+01 ... 6.82926829e-03\n",
      "  6.48539590e+07 2.14000000e+00]\n",
      " [1.57580000e+00 1.49900000e+00 1.20159000e+01 ... 6.86274510e-03\n",
      "  3.04867050e+07 9.50000000e-01]\n",
      " [3.42060000e+00 1.87470000e+00 1.82252000e+01 ... 6.82926829e-03\n",
      "  6.48539590e+07 1.72700000e+00]\n",
      " ...\n",
      " [2.41890000e+00 3.26100000e+00 1.19073000e+01 ... 1.08374384e-02\n",
      "  3.00740870e+07 1.09900000e+00]\n",
      " [1.17480000e+00 2.29350000e+00 2.78437000e+01 ... 1.17762512e-02\n",
      "  3.30707820e+07 1.26610000e+00]\n",
      " [6.71100000e-01 8.92200000e-01 2.49706000e+01 ... 6.86274510e-03\n",
      "  2.10623970e+07 7.28200000e-01]]\n"
     ]
    }
   ],
   "source": [
    "# 8. 转换数据集到iris.data格式\n",
    "dataset = []\n",
    "list_len = len(df[titles[0]].values.tolist())\n",
    "for j in range(list_len):\n",
    "    tmp_list = []\n",
    "    tmp_list.append(ROE[j])\n",
    "    tmp_list.append(ROA[j])\n",
    "    tmp_list.append(ROS[j])\n",
    "    tmp_list.append(ROIC[j])\n",
    "    tmp_list.append(total_turnover[j])\n",
    "    tmp_list.append(flow_turnover[j])\n",
    "    tmp_list.append(inventory_turnover[j])\n",
    "    tmp_list.append(receive_turnover[j])\n",
    "    tmp_list.append(debt_r[j])\n",
    "    tmp_list.append(flow_r[j])\n",
    "    tmp_list.append(quick_r[j])\n",
    "    tmp_list.append(cash_r[j])\n",
    "    tmp_list.append(interest_mul[j])\n",
    "    tmp_list.append(sales[j])\n",
    "    tmp_list.append(profit[j])\n",
    "    tmp_list.append(assets[j])\n",
    "    tmp_list.append(business[j])\n",
    "    tmp_list.append(invest[j])\n",
    "    tmp_list.append(finance[j])\n",
    "    tmp_list.append(gdp[j])\n",
    "    tmp_list.append(cpi[j])\n",
    "    tmp_list.append(budget[j])\n",
    "    tmp_list.append(spread[j])\n",
    "    \n",
    "    dataset.append(tmp_list)\n",
    "        \n",
    "data_array = np.array(dataset)\n",
    "print(data_array)                                                                                             "
   ]
  },
  {
   "cell_type": "code",
   "execution_count": 24,
   "metadata": {},
   "outputs": [],
   "source": [
    "# 9. 转换数据评级到iris.target格式\n",
    "scoring = df[titles[23]].values.tolist()"
   ]
  },
  {
   "cell_type": "markdown",
   "metadata": {},
   "source": [
    "## 3. 构建决策树和验证"
   ]
  },
  {
   "cell_type": "code",
   "execution_count": 25,
   "metadata": {},
   "outputs": [
    {
     "name": "stdout",
     "output_type": "stream",
     "text": [
      "feature name:  [0, 1, 2, 3, 4, 5, 6, 7, 8, 9, 10, 11, 12, 13, 14, 15, 16, 17, 18, 19, 20, 21, 22]\n",
      "0.6098378982671884\n"
     ]
    },
    {
     "name": "stderr",
     "output_type": "stream",
     "text": [
      "/Library/anaconda3/lib/python3.7/site-packages/sklearn/model_selection/_split.py:657: Warning: The least populated class in y has only 1 members, which is too few. The minimum number of members in any class cannot be less than n_splits=10.\n",
      "  % (min_groups, self.n_splits)), Warning)\n"
     ]
    },
    {
     "name": "stdout",
     "output_type": "stream",
     "text": [
      "0.6517565878320426\n"
     ]
    }
   ],
   "source": [
    "# 1. 分别将data和target转回dataFrame格式\n",
    "x = pd.DataFrame(data_array)  \n",
    "y = pd.DataFrame(scoring)\n",
    "\n",
    "# 2. 分割数据集，一部分测试一部分训练，数据集的分割，分为训练集和测试集\n",
    "x_train, x_test, y_train, y_test = train_test_split(x, y, test_size=0.25)\n",
    "dict = DictVectorizer(sparse=False)                             # 进行特征工程的处理，将数据集变换成one-hot形式\n",
    "x_train = dict.fit_transform(x_train.to_dict(orient=\"records\")) # 将列表转换为一个个字典形式，因为DictVectorizer(）中接收的是字典形式\n",
    "print(\"feature name: \",dict.get_feature_names())\n",
    "x_test = dict.transform(x_test.to_dict(orient=\"records\"))\n",
    "tre=DecisionTreeClassifier()  # 用决策数预测\n",
    "tre.fit(x_train,y_train)\n",
    "\n",
    "# 3. 输出准确度\n",
    "print(tre.score(x_test, y_test))\n",
    "\n",
    "# 4. 评估模型使用十次交叉验证\n",
    "score = cross_val_score(tre, x, y, cv=10, scoring='accuracy')\n",
    "print(np.mean(score))"
   ]
  },
  {
   "cell_type": "markdown",
   "metadata": {},
   "source": [
    "## 4. 决策树可视化 "
   ]
  },
  {
   "cell_type": "code",
   "execution_count": 26,
   "metadata": {},
   "outputs": [
    {
     "data": {
      "text/plain": [
       "True"
      ]
     },
     "execution_count": 26,
     "metadata": {},
     "output_type": "execute_result"
    }
   ],
   "source": [
    "results = []\n",
    "for i in range(22):\n",
    "    results.append(str(i))\n",
    "\n",
    "# 1. graphviz插件实现决策树可视化\n",
    "dot_data = tree.export_graphviz(tre, out_file=None,\n",
    "                         feature_names=titles2,\n",
    "                         class_names=results,\n",
    "                         filled=True, rounded=True,\n",
    "                         special_characters=True)\n",
    "graph = pydotplus.graph_from_dot_data(dot_data)\n",
    "\n",
    "# 2. 写入决策树图像\n",
    "graph.write_pdf(\"../数据集/results/Decision Tree Visualization.pdf\") "
   ]
  },
  {
   "cell_type": "markdown",
   "metadata": {},
   "source": [
    "## 5. 实现预测"
   ]
  },
  {
   "cell_type": "code",
   "execution_count": 27,
   "metadata": {},
   "outputs": [
    {
     "name": "stdout",
     "output_type": "stream",
     "text": [
      "预测结果scoring： AA\n"
     ]
    }
   ],
   "source": [
    "# 1. 参数输入\n",
    "pre_set = ([[1.504, 2.5236, 29.0848, 2.9762, 0.0708, 0.1869, 1.1383, 0.5664, 2.715, 1.75, 1.55, 0.59, 1.28, 14.93, 7.57, 19.10, 14.780, -188.14, 273.364, 1714.66, 0.0068, 40386705, 0.54]])\n",
    "\n",
    "# 2. 输出原格式为 [18]， 需要进行处理后提取\n",
    "pre_result = tre.predict(pre_set)\n",
    "score = re.sub(\"\\D\",\"\", str(pre_result))\n",
    "\n",
    "# 3. scoring和评级转换\n",
    "scoring_dict = {'21':'AAA', '20':'AAA-', \n",
    "        '19':'AA+','18':'AA','17':'AA-',\n",
    "        '16':'A+', '15':'A', '14':'A-', \n",
    "        '13':'BBB+', '12':'BBB', '11':'BBB-',\n",
    "        '10':'BB+', '9':'BB', '8':'BB-',\n",
    "        '7':'B+', '6':'B', '5':'B-', \n",
    "        '4':'CCC+', '3':'CCC', '2':'CCC-', '1':'CC', '0':'C'}  \n",
    "print(\"预测结果scoring：\", scoring_dict[score])"
   ]
  },
  {
   "cell_type": "code",
   "execution_count": null,
   "metadata": {},
   "outputs": [],
   "source": []
  }
 ],
 "metadata": {
  "kernelspec": {
   "display_name": "Python 3",
   "language": "python",
   "name": "python3"
  },
  "language_info": {
   "codemirror_mode": {
    "name": "ipython",
    "version": 3
   },
   "file_extension": ".py",
   "mimetype": "text/x-python",
   "name": "python",
   "nbconvert_exporter": "python",
   "pygments_lexer": "ipython3",
   "version": "3.7.4"
  }
 },
 "nbformat": 4,
 "nbformat_minor": 2
}
