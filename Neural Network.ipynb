{
 "cells": [
  {
   "cell_type": "markdown",
   "metadata": {},
   "source": [
    "# 五、神经网络算法模型 "
   ]
  },
  {
   "cell_type": "markdown",
   "metadata": {},
   "source": [
    "## 1. 引用包"
   ]
  },
  {
   "cell_type": "code",
   "execution_count": 219,
   "metadata": {},
   "outputs": [],
   "source": [
    "# Let's import some basic libraries\n",
    "import numpy as np\n",
    "import pandas as pd\n",
    "from sklearn.model_selection import train_test_split\n",
    "from matplotlib import pyplot as plt\n",
    "%matplotlib inline\n",
    "from sklearn.feature_extraction import DictVectorizer\n",
    "from sklearn.tree import DecisionTreeClassifier, plot_tree\n",
    "\n",
    "# Pytorch专用包\n",
    "import torch\n",
    "import torch.optim as optim\n",
    "import torch.nn as nn\n",
    "from torch.utils.data import Dataset, TensorDataset, DataLoader\n",
    "import pytorch_lightning as pl\n",
    "from pytorch_lightning import Trainer\n",
    "from sklearn.model_selection import cross_val_score"
   ]
  },
  {
   "cell_type": "markdown",
   "metadata": {},
   "source": [
    "## 2. 数据处理 "
   ]
  },
  {
   "cell_type": "code",
   "execution_count": 220,
   "metadata": {},
   "outputs": [],
   "source": [
    "### （1）读数据和简单筛选 ###\n",
    "\n",
    "# 1. 从⽂文件中读取原始数据\n",
    "file_spread = '../数据集/债明细-生数据集.xlsx'           ###\n",
    "df=pd.read_excel(file_spread)\n",
    "\n",
    "# 2. 按照指标分别删除0行\n",
    "titles = ['ROE', 'ROA', 'ROS', 'ROIC', '总资产周转率','流动资产周转率','存货周转率','应收账款周转率','资产负债率','流动比率','速动比率','现金比率','利息保障倍数','销售收入增长率','净利润增长率','总资产增长率','经营活动现金流净额占比','投资活动现金流净额占比','筹资活动现金流净额占比','国内生产总值','居民消费价格指数增长率','一般预算收入','spread','scoring']\n",
    "titles2 = ['ROE', 'ROA', 'ROS', 'ROIC', '总资产周转率','流动资产周转率','存货周转率','应收账款周转率','资产负债率','流动比率','速动比率','现金比率','利息保障倍数','销售收入增长率','净利润增长率','总资产增长率','经营活动现金流净额占比','投资活动现金流净额占比','筹资活动现金流净额占比','国内生产总值','居民消费价格指数增长率','一般预算收入','spread']\n",
    "for t in titles:\n",
    "    if t != '居民消费价格指数增长率':\n",
    "        df = df[df[t]!=0]\n",
    "\n",
    "# 3. 删除不必要\n",
    "df.drop(['发行人','发行规模','债券余额','发行期限','票面利率(发行参考)','上市日期','起息日','到期日','发行人省份','城市','起息日期', '债券简称', '债券类型', '债券简称', '债券类型', 'Unnamed: 38', '年度标识', '城市名称', '城市代码', '城市类别', '省份名称','国内生产总值（亿元）',\n",
    "       '居民消费价格指数（上年＝100）', 'Unnamed: 46', 'Unnamed: 47', 'Unnamed: 48', \n",
    "       'Unnamed: 49', 'Unnamed: 50', 'spread平均值', 'Unnamed: 52', 'Unnamed: 53','Unnamed: 54','Platform Rating'],axis=1,inplace=True)\n",
    "\n",
    "# 4. df乱序\n",
    "df = df.reindex(np.random.permutation(df.index))\n",
    "#df_ori = df  # 备份原始数据"
   ]
  },
  {
   "cell_type": "code",
   "execution_count": 221,
   "metadata": {},
   "outputs": [
    {
     "name": "stdout",
     "output_type": "stream",
     "text": [
      "{'ROE': [2.146552662473788, 7.3336990077381605], 'ROA': [1.9186391334731043, 1.7969391942590844], 'ROS': [19.874540153738668, 18.588974838499702], 'ROIC': [1.897528134171907, 2.0545044911615005], '总资产周转率': [0.1182046680642905, 0.163816988668333], '流动资产周转率': [0.31141119496855324, 0.4486891511443836], '存货周转率': [23.409254325646323, 405.74917304064456], '应收账款周转率': [72.22729818308873, 1454.5876974870646], '资产负债率': [1.991765259818022, 1.944187100608632], '流动比率': [2.972594493361288, 2.6345328034135544], '速动比率': [1.3909536967155853, 1.0646160189941907], '现金比率': [0.4246323950518437, 0.35051438565864496], '利息保障倍数': [22.371953039832235, 338.8448301300983], '销售收入增长率': [81.96843127882543, 2935.731388163599], '净利润增长率': [36.365267742497885, 262.63413167058604], '总资产增长率': [12.271396242568613, 16.189351689966376], '经营活动现金流净额占比': [-299.35768549413166, 19021.0482256977], '投资活动现金流净额占比': [-205.71987177665002, 7107.248287720758], '筹资活动现金流净额占比': [605.0775572707787, 22156.73583971834], '国内生产总值': [9204.278657386316, 8170.640681352722], '居民消费价格指数增长率': [0.007819442065461561, 0.0036298918659252283], '一般预算收入': [48168313.94297694, 28936056.18052994], 'spread': [1.8661597064989497, 1.1019310296539684], 'scoring': [18.884136967155836, 1.2827182719484447]}\n"
     ]
    }
   ],
   "source": [
    "# 5. 连续值Scaling\n",
    "# 对连续变量进行缩放，即以零均值和标准偏差为1来标准化它们。这样我们就可以节省各种平均值和标准偏差，以便以后转换回来。\n",
    "scaled_features = {}\n",
    "for t in titles:\n",
    "    mean, std = df[t].mean(), df[t].std()\n",
    "    scaled_features[t] = [mean, std]\n",
    "    df.loc[:, t] = (df[t] - mean)/std\n",
    "\n",
    "print(scaled_features)"
   ]
  },
  {
   "cell_type": "markdown",
   "metadata": {},
   "source": [
    "## 3. 数据集准备 "
   ]
  },
  {
   "cell_type": "code",
   "execution_count": 222,
   "metadata": {},
   "outputs": [],
   "source": [
    "# x\n",
    "factors = df[titles[:23]].values.tolist()\n",
    "x = pd.DataFrame(factors)\n",
    "\n",
    "# y\n",
    "scoring = df[titles[23]].values.tolist()\n",
    "y = pd.DataFrame(scoring)\n",
    "\n",
    "# redirection dataset\n",
    "re_features = x\n",
    "re_targets = y\n",
    "\n",
    "# split <train, test>\n",
    "train_features, x_test, train_targets, y_test = train_test_split(x, y, test_size=0.11)\n",
    "\n",
    "# 将test set再划分\n",
    "validation_features, test_features, validation_targets, test_targets = train_test_split(x_test, y_test, test_size=0.25)"
   ]
  },
  {
   "cell_type": "code",
   "execution_count": 223,
   "metadata": {},
   "outputs": [],
   "source": [
    "l_rate = 0.2\n",
    "mse_loss = nn.MSELoss(reduction = 'mean')"
   ]
  },
  {
   "cell_type": "code",
   "execution_count": 224,
   "metadata": {},
   "outputs": [
    {
     "name": "stdout",
     "output_type": "stream",
     "text": [
      "158    -0.689268\n",
      "6714    1.649515\n",
      "8725    0.090326\n",
      "1059    0.090326\n",
      "5540   -0.689268\n",
      "          ...   \n",
      "2866   -0.689268\n",
      "3584    0.090326\n",
      "6436    0.090326\n",
      "8589   -0.689268\n",
      "2416   -0.689268\n",
      "Name: scoring, Length: 7155, dtype: float64\n"
     ]
    }
   ],
   "source": [
    "df.columns\n",
    "print(df[titles[23]])"
   ]
  },
  {
   "cell_type": "code",
   "execution_count": 225,
   "metadata": {},
   "outputs": [],
   "source": [
    "class Regression(pl.LightningModule):\n",
    "    \n",
    "### The Model ### \n",
    "\n",
    "    # Question: what will your model architecture look like?\n",
    "    # Initialize the layers\n",
    "    # Here we have one input layer (size 23 as we have 23 features), one hidden layer (size 10), \n",
    "    # and one output layer (size 1 as we are predicting a single value)\n",
    "    def __init__(self):\n",
    "        super(Regression, self).__init__()\n",
    "        self.fc1 = nn.Linear(23,10)\n",
    "        self.fc2 = nn.Linear(10, 4)\n",
    "        self.fc3 = nn.Linear(4, 2)\n",
    "        self.fc4 = nn.Linear(2, 1)\n",
    "    \n",
    "    # Question: how should the forward pass be performed, and what will its ouputs be?\n",
    "    # Perform the forward pass\n",
    "    # We're using the sigmoid activation function on our hidden layer, but our output layer has no activation \n",
    "    # function as we're predicting a continuous variable so we want the actual number predicted\n",
    "    def forward(self, x):\n",
    "        x = torch.sigmoid(self.fc1(x))\n",
    "        x = torch.sigmoid(self.fc2(x))\n",
    "        x = torch.sigmoid(self.fc3(x))\n",
    "        x = self.fc4(x)\n",
    "        return x\n",
    "\n",
    "### The Data Loaders ###     \n",
    "    \n",
    "    # Define functions for data loading: train / validate / test / re-direction\n",
    "    def train_dataloader(self):\n",
    "        train_dataset = TensorDataset(torch.tensor(train_features.values).float(), torch.tensor(train_targets.values).float())\n",
    "        train_loader = DataLoader(dataset = train_dataset, batch_size = 128)\n",
    "        return train_loader\n",
    "        \n",
    "    def val_dataloader(self):\n",
    "        validation_dataset = TensorDataset(torch.tensor(validation_features.values).float(), torch.tensor(validation_targets.values).float())\n",
    "        validation_loader = DataLoader(dataset = validation_dataset, batch_size = 128)\n",
    "        return validation_loader\n",
    "    \n",
    "    ### def test_dataloader(self):\n",
    "    ### test_dataset = TensorDataset(torch.tensor(test_features.values).float(), torch.tensor(test_targets.values).float())\n",
    "    ### test_loader = DataLoader(dataset = test_dataset, batch_size = 128)\n",
    "    ### return test_loader\n",
    "    \n",
    "    def test_dataloader(self):\n",
    "        re_dataset = TensorDataset(torch.tensor(re_features.values).float(), torch.tensor(re_targets.values).float())\n",
    "        re_loader = DataLoader(dataset = re_dataset, batch_size = 128)\n",
    "        return re_loader\n",
    "\n",
    "### The Optimizer ### \n",
    "\n",
    "    # Question: what optimizer will I use?\n",
    "    # Define optimizer function: here we are using Stochastic Gradient Descent\n",
    "    def configure_optimizers(self):\n",
    "        return optim.SGD(self.parameters(), lr=l_rate)\n",
    "\n",
    "### Training ### \n",
    "\n",
    "    # Define training step\n",
    "    def training_step(self, batch, batch_idx):\n",
    "        x, y = batch\n",
    "        logits = self.forward(x)\n",
    "        loss = mse_loss(logits, y)\n",
    "        # Add logging\n",
    "        logs = {'loss': loss}\n",
    "        return {'loss': loss, 'log': logs}\n",
    "\n",
    "### Validation ### \n",
    "    \n",
    "    # Define validation step\n",
    "    def validation_step(self, batch, batch_idx):\n",
    "        x, y = batch\n",
    "        logits = self.forward(x)\n",
    "        loss = mse_loss(logits, y)\n",
    "        return {'val_loss': loss}\n",
    "\n",
    "    # Define validation epoch end\n",
    "    def validation_epoch_end(self, outputs):\n",
    "        avg_loss = torch.stack([x['val_loss'] for x in outputs]).mean()\n",
    "        tensorboard_logs = {'val_loss': avg_loss}\n",
    "        return {'avg_val_loss': avg_loss, 'log': tensorboard_logs}\n",
    "\n",
    "### Testing ###     \n",
    "\n",
    "    # Define test step\n",
    "    def test_step(self, batch, batch_idx):\n",
    "        x, y = batch\n",
    "        logits = self.forward(x)\n",
    "        loss = mse_loss(logits, y)\n",
    "        correct = torch.sum(logits == y.data)\n",
    "        \n",
    "        # I want to visualize my predictions vs my actuals so here I'm going to add these lines to extract the data for plotting later on\n",
    "        predictions_pred.append(logits)\n",
    "        predictions_actual.append(y.data)\n",
    "        return {'test_loss': loss, 'test_correct': correct, 'logits': logits}\n",
    "    \n",
    "    # Define test end\n",
    "    def test_epoch_end(self, outputs):\n",
    "        avg_loss = torch.stack([x['test_loss'] for x in outputs]).mean()\n",
    "        logs = {'test_loss': avg_loss}      \n",
    "        return {'avg_test_loss': avg_loss, 'log': logs, 'progress_bar': logs }\n",
    "        "
   ]
  },
  {
   "cell_type": "code",
   "execution_count": 226,
   "metadata": {},
   "outputs": [
    {
     "name": "stderr",
     "output_type": "stream",
     "text": [
      "GPU available: False, used: False\n",
      "TPU available: None, using: 0 TPU cores\n",
      "\n",
      "  | Name | Type   | Params\n",
      "--------------------------------\n",
      "0 | fc1  | Linear | 240   \n",
      "1 | fc2  | Linear | 44    \n",
      "2 | fc3  | Linear | 10    \n",
      "3 | fc4  | Linear | 3     \n",
      "--------------------------------\n",
      "297       Trainable params\n",
      "0         Non-trainable params\n",
      "297       Total params\n",
      "0.001     Total estimated model params size (MB)\n",
      "/Library/anaconda3/lib/python3.7/site-packages/pytorch_lightning/utilities/distributed.py:52: UserWarning: The dataloader, val dataloader 0, does not have many workers which may be a bottleneck. Consider increasing the value of the `num_workers` argument` (try 8 which is the number of cpus on this machine) in the `DataLoader` init to improve performance.\n",
      "  warnings.warn(*args, **kwargs)\n"
     ]
    },
    {
     "data": {
      "application/vnd.jupyter.widget-view+json": {
       "model_id": "",
       "version_major": 2,
       "version_minor": 0
      },
      "text/plain": [
       "Validation sanity check: 0it [00:00, ?it/s]"
      ]
     },
     "metadata": {},
     "output_type": "display_data"
    },
    {
     "name": "stderr",
     "output_type": "stream",
     "text": [
      "/Library/anaconda3/lib/python3.7/site-packages/pytorch_lightning/utilities/distributed.py:52: UserWarning: The validation_epoch_end should not return anything as of 9.1. To log, use self.log(...) or self.write(...) directly in the LightningModule\n",
      "  warnings.warn(*args, **kwargs)\n",
      "/Library/anaconda3/lib/python3.7/site-packages/pytorch_lightning/utilities/distributed.py:52: UserWarning: The {log:dict keyword} was deprecated in 0.9.1 and will be removed in 1.0.0\n",
      "Please use self.log(...) inside the lightningModule instead.\n",
      "# log on a step or aggregate epoch metric to the logger and/or progress bar (inside LightningModule)\n",
      "self.log('train_loss', loss, on_step=True, on_epoch=True, prog_bar=True)\n",
      "  warnings.warn(*args, **kwargs)\n",
      "/Library/anaconda3/lib/python3.7/site-packages/pytorch_lightning/utilities/distributed.py:52: UserWarning: The dataloader, train dataloader, does not have many workers which may be a bottleneck. Consider increasing the value of the `num_workers` argument` (try 8 which is the number of cpus on this machine) in the `DataLoader` init to improve performance.\n",
      "  warnings.warn(*args, **kwargs)\n"
     ]
    },
    {
     "data": {
      "application/vnd.jupyter.widget-view+json": {
       "model_id": "d214404344f540a3b0c757c180d67e59",
       "version_major": 2,
       "version_minor": 0
      },
      "text/plain": [
       "Training: 0it [00:00, ?it/s]"
      ]
     },
     "metadata": {},
     "output_type": "display_data"
    },
    {
     "data": {
      "application/vnd.jupyter.widget-view+json": {
       "model_id": "",
       "version_major": 2,
       "version_minor": 0
      },
      "text/plain": [
       "Validating: 0it [00:00, ?it/s]"
      ]
     },
     "metadata": {},
     "output_type": "display_data"
    },
    {
     "data": {
      "application/vnd.jupyter.widget-view+json": {
       "model_id": "",
       "version_major": 2,
       "version_minor": 0
      },
      "text/plain": [
       "Validating: 0it [00:00, ?it/s]"
      ]
     },
     "metadata": {},
     "output_type": "display_data"
    },
    {
     "data": {
      "application/vnd.jupyter.widget-view+json": {
       "model_id": "",
       "version_major": 2,
       "version_minor": 0
      },
      "text/plain": [
       "Validating: 0it [00:00, ?it/s]"
      ]
     },
     "metadata": {},
     "output_type": "display_data"
    },
    {
     "data": {
      "application/vnd.jupyter.widget-view+json": {
       "model_id": "",
       "version_major": 2,
       "version_minor": 0
      },
      "text/plain": [
       "Validating: 0it [00:00, ?it/s]"
      ]
     },
     "metadata": {},
     "output_type": "display_data"
    },
    {
     "data": {
      "application/vnd.jupyter.widget-view+json": {
       "model_id": "",
       "version_major": 2,
       "version_minor": 0
      },
      "text/plain": [
       "Validating: 0it [00:00, ?it/s]"
      ]
     },
     "metadata": {},
     "output_type": "display_data"
    },
    {
     "data": {
      "application/vnd.jupyter.widget-view+json": {
       "model_id": "",
       "version_major": 2,
       "version_minor": 0
      },
      "text/plain": [
       "Validating: 0it [00:00, ?it/s]"
      ]
     },
     "metadata": {},
     "output_type": "display_data"
    },
    {
     "data": {
      "application/vnd.jupyter.widget-view+json": {
       "model_id": "",
       "version_major": 2,
       "version_minor": 0
      },
      "text/plain": [
       "Validating: 0it [00:00, ?it/s]"
      ]
     },
     "metadata": {},
     "output_type": "display_data"
    },
    {
     "data": {
      "application/vnd.jupyter.widget-view+json": {
       "model_id": "",
       "version_major": 2,
       "version_minor": 0
      },
      "text/plain": [
       "Validating: 0it [00:00, ?it/s]"
      ]
     },
     "metadata": {},
     "output_type": "display_data"
    },
    {
     "data": {
      "application/vnd.jupyter.widget-view+json": {
       "model_id": "",
       "version_major": 2,
       "version_minor": 0
      },
      "text/plain": [
       "Validating: 0it [00:00, ?it/s]"
      ]
     },
     "metadata": {},
     "output_type": "display_data"
    },
    {
     "data": {
      "application/vnd.jupyter.widget-view+json": {
       "model_id": "",
       "version_major": 2,
       "version_minor": 0
      },
      "text/plain": [
       "Validating: 0it [00:00, ?it/s]"
      ]
     },
     "metadata": {},
     "output_type": "display_data"
    },
    {
     "data": {
      "application/vnd.jupyter.widget-view+json": {
       "model_id": "",
       "version_major": 2,
       "version_minor": 0
      },
      "text/plain": [
       "Validating: 0it [00:00, ?it/s]"
      ]
     },
     "metadata": {},
     "output_type": "display_data"
    },
    {
     "data": {
      "application/vnd.jupyter.widget-view+json": {
       "model_id": "",
       "version_major": 2,
       "version_minor": 0
      },
      "text/plain": [
       "Validating: 0it [00:00, ?it/s]"
      ]
     },
     "metadata": {},
     "output_type": "display_data"
    },
    {
     "data": {
      "application/vnd.jupyter.widget-view+json": {
       "model_id": "",
       "version_major": 2,
       "version_minor": 0
      },
      "text/plain": [
       "Validating: 0it [00:00, ?it/s]"
      ]
     },
     "metadata": {},
     "output_type": "display_data"
    },
    {
     "data": {
      "application/vnd.jupyter.widget-view+json": {
       "model_id": "",
       "version_major": 2,
       "version_minor": 0
      },
      "text/plain": [
       "Validating: 0it [00:00, ?it/s]"
      ]
     },
     "metadata": {},
     "output_type": "display_data"
    },
    {
     "data": {
      "application/vnd.jupyter.widget-view+json": {
       "model_id": "",
       "version_major": 2,
       "version_minor": 0
      },
      "text/plain": [
       "Validating: 0it [00:00, ?it/s]"
      ]
     },
     "metadata": {},
     "output_type": "display_data"
    },
    {
     "data": {
      "application/vnd.jupyter.widget-view+json": {
       "model_id": "",
       "version_major": 2,
       "version_minor": 0
      },
      "text/plain": [
       "Validating: 0it [00:00, ?it/s]"
      ]
     },
     "metadata": {},
     "output_type": "display_data"
    },
    {
     "data": {
      "application/vnd.jupyter.widget-view+json": {
       "model_id": "",
       "version_major": 2,
       "version_minor": 0
      },
      "text/plain": [
       "Validating: 0it [00:00, ?it/s]"
      ]
     },
     "metadata": {},
     "output_type": "display_data"
    },
    {
     "data": {
      "application/vnd.jupyter.widget-view+json": {
       "model_id": "",
       "version_major": 2,
       "version_minor": 0
      },
      "text/plain": [
       "Validating: 0it [00:00, ?it/s]"
      ]
     },
     "metadata": {},
     "output_type": "display_data"
    },
    {
     "data": {
      "application/vnd.jupyter.widget-view+json": {
       "model_id": "",
       "version_major": 2,
       "version_minor": 0
      },
      "text/plain": [
       "Validating: 0it [00:00, ?it/s]"
      ]
     },
     "metadata": {},
     "output_type": "display_data"
    },
    {
     "data": {
      "application/vnd.jupyter.widget-view+json": {
       "model_id": "",
       "version_major": 2,
       "version_minor": 0
      },
      "text/plain": [
       "Validating: 0it [00:00, ?it/s]"
      ]
     },
     "metadata": {},
     "output_type": "display_data"
    },
    {
     "data": {
      "application/vnd.jupyter.widget-view+json": {
       "model_id": "",
       "version_major": 2,
       "version_minor": 0
      },
      "text/plain": [
       "Validating: 0it [00:00, ?it/s]"
      ]
     },
     "metadata": {},
     "output_type": "display_data"
    },
    {
     "data": {
      "application/vnd.jupyter.widget-view+json": {
       "model_id": "",
       "version_major": 2,
       "version_minor": 0
      },
      "text/plain": [
       "Validating: 0it [00:00, ?it/s]"
      ]
     },
     "metadata": {},
     "output_type": "display_data"
    },
    {
     "data": {
      "application/vnd.jupyter.widget-view+json": {
       "model_id": "",
       "version_major": 2,
       "version_minor": 0
      },
      "text/plain": [
       "Validating: 0it [00:00, ?it/s]"
      ]
     },
     "metadata": {},
     "output_type": "display_data"
    },
    {
     "data": {
      "application/vnd.jupyter.widget-view+json": {
       "model_id": "",
       "version_major": 2,
       "version_minor": 0
      },
      "text/plain": [
       "Validating: 0it [00:00, ?it/s]"
      ]
     },
     "metadata": {},
     "output_type": "display_data"
    },
    {
     "data": {
      "application/vnd.jupyter.widget-view+json": {
       "model_id": "",
       "version_major": 2,
       "version_minor": 0
      },
      "text/plain": [
       "Validating: 0it [00:00, ?it/s]"
      ]
     },
     "metadata": {},
     "output_type": "display_data"
    },
    {
     "data": {
      "application/vnd.jupyter.widget-view+json": {
       "model_id": "",
       "version_major": 2,
       "version_minor": 0
      },
      "text/plain": [
       "Validating: 0it [00:00, ?it/s]"
      ]
     },
     "metadata": {},
     "output_type": "display_data"
    },
    {
     "data": {
      "application/vnd.jupyter.widget-view+json": {
       "model_id": "",
       "version_major": 2,
       "version_minor": 0
      },
      "text/plain": [
       "Validating: 0it [00:00, ?it/s]"
      ]
     },
     "metadata": {},
     "output_type": "display_data"
    },
    {
     "data": {
      "application/vnd.jupyter.widget-view+json": {
       "model_id": "",
       "version_major": 2,
       "version_minor": 0
      },
      "text/plain": [
       "Validating: 0it [00:00, ?it/s]"
      ]
     },
     "metadata": {},
     "output_type": "display_data"
    },
    {
     "data": {
      "application/vnd.jupyter.widget-view+json": {
       "model_id": "",
       "version_major": 2,
       "version_minor": 0
      },
      "text/plain": [
       "Validating: 0it [00:00, ?it/s]"
      ]
     },
     "metadata": {},
     "output_type": "display_data"
    },
    {
     "data": {
      "application/vnd.jupyter.widget-view+json": {
       "model_id": "",
       "version_major": 2,
       "version_minor": 0
      },
      "text/plain": [
       "Validating: 0it [00:00, ?it/s]"
      ]
     },
     "metadata": {},
     "output_type": "display_data"
    },
    {
     "data": {
      "application/vnd.jupyter.widget-view+json": {
       "model_id": "",
       "version_major": 2,
       "version_minor": 0
      },
      "text/plain": [
       "Validating: 0it [00:00, ?it/s]"
      ]
     },
     "metadata": {},
     "output_type": "display_data"
    },
    {
     "data": {
      "application/vnd.jupyter.widget-view+json": {
       "model_id": "",
       "version_major": 2,
       "version_minor": 0
      },
      "text/plain": [
       "Validating: 0it [00:00, ?it/s]"
      ]
     },
     "metadata": {},
     "output_type": "display_data"
    },
    {
     "data": {
      "application/vnd.jupyter.widget-view+json": {
       "model_id": "",
       "version_major": 2,
       "version_minor": 0
      },
      "text/plain": [
       "Validating: 0it [00:00, ?it/s]"
      ]
     },
     "metadata": {},
     "output_type": "display_data"
    },
    {
     "data": {
      "application/vnd.jupyter.widget-view+json": {
       "model_id": "",
       "version_major": 2,
       "version_minor": 0
      },
      "text/plain": [
       "Validating: 0it [00:00, ?it/s]"
      ]
     },
     "metadata": {},
     "output_type": "display_data"
    },
    {
     "data": {
      "application/vnd.jupyter.widget-view+json": {
       "model_id": "",
       "version_major": 2,
       "version_minor": 0
      },
      "text/plain": [
       "Validating: 0it [00:00, ?it/s]"
      ]
     },
     "metadata": {},
     "output_type": "display_data"
    },
    {
     "data": {
      "application/vnd.jupyter.widget-view+json": {
       "model_id": "",
       "version_major": 2,
       "version_minor": 0
      },
      "text/plain": [
       "Validating: 0it [00:00, ?it/s]"
      ]
     },
     "metadata": {},
     "output_type": "display_data"
    },
    {
     "data": {
      "application/vnd.jupyter.widget-view+json": {
       "model_id": "",
       "version_major": 2,
       "version_minor": 0
      },
      "text/plain": [
       "Validating: 0it [00:00, ?it/s]"
      ]
     },
     "metadata": {},
     "output_type": "display_data"
    },
    {
     "data": {
      "application/vnd.jupyter.widget-view+json": {
       "model_id": "",
       "version_major": 2,
       "version_minor": 0
      },
      "text/plain": [
       "Validating: 0it [00:00, ?it/s]"
      ]
     },
     "metadata": {},
     "output_type": "display_data"
    },
    {
     "data": {
      "application/vnd.jupyter.widget-view+json": {
       "model_id": "",
       "version_major": 2,
       "version_minor": 0
      },
      "text/plain": [
       "Validating: 0it [00:00, ?it/s]"
      ]
     },
     "metadata": {},
     "output_type": "display_data"
    },
    {
     "data": {
      "application/vnd.jupyter.widget-view+json": {
       "model_id": "",
       "version_major": 2,
       "version_minor": 0
      },
      "text/plain": [
       "Validating: 0it [00:00, ?it/s]"
      ]
     },
     "metadata": {},
     "output_type": "display_data"
    },
    {
     "data": {
      "application/vnd.jupyter.widget-view+json": {
       "model_id": "",
       "version_major": 2,
       "version_minor": 0
      },
      "text/plain": [
       "Validating: 0it [00:00, ?it/s]"
      ]
     },
     "metadata": {},
     "output_type": "display_data"
    },
    {
     "data": {
      "application/vnd.jupyter.widget-view+json": {
       "model_id": "",
       "version_major": 2,
       "version_minor": 0
      },
      "text/plain": [
       "Validating: 0it [00:00, ?it/s]"
      ]
     },
     "metadata": {},
     "output_type": "display_data"
    },
    {
     "data": {
      "application/vnd.jupyter.widget-view+json": {
       "model_id": "",
       "version_major": 2,
       "version_minor": 0
      },
      "text/plain": [
       "Validating: 0it [00:00, ?it/s]"
      ]
     },
     "metadata": {},
     "output_type": "display_data"
    },
    {
     "data": {
      "application/vnd.jupyter.widget-view+json": {
       "model_id": "",
       "version_major": 2,
       "version_minor": 0
      },
      "text/plain": [
       "Validating: 0it [00:00, ?it/s]"
      ]
     },
     "metadata": {},
     "output_type": "display_data"
    },
    {
     "data": {
      "application/vnd.jupyter.widget-view+json": {
       "model_id": "",
       "version_major": 2,
       "version_minor": 0
      },
      "text/plain": [
       "Validating: 0it [00:00, ?it/s]"
      ]
     },
     "metadata": {},
     "output_type": "display_data"
    },
    {
     "data": {
      "application/vnd.jupyter.widget-view+json": {
       "model_id": "",
       "version_major": 2,
       "version_minor": 0
      },
      "text/plain": [
       "Validating: 0it [00:00, ?it/s]"
      ]
     },
     "metadata": {},
     "output_type": "display_data"
    },
    {
     "data": {
      "application/vnd.jupyter.widget-view+json": {
       "model_id": "",
       "version_major": 2,
       "version_minor": 0
      },
      "text/plain": [
       "Validating: 0it [00:00, ?it/s]"
      ]
     },
     "metadata": {},
     "output_type": "display_data"
    },
    {
     "data": {
      "application/vnd.jupyter.widget-view+json": {
       "model_id": "",
       "version_major": 2,
       "version_minor": 0
      },
      "text/plain": [
       "Validating: 0it [00:00, ?it/s]"
      ]
     },
     "metadata": {},
     "output_type": "display_data"
    },
    {
     "data": {
      "application/vnd.jupyter.widget-view+json": {
       "model_id": "",
       "version_major": 2,
       "version_minor": 0
      },
      "text/plain": [
       "Validating: 0it [00:00, ?it/s]"
      ]
     },
     "metadata": {},
     "output_type": "display_data"
    },
    {
     "data": {
      "application/vnd.jupyter.widget-view+json": {
       "model_id": "",
       "version_major": 2,
       "version_minor": 0
      },
      "text/plain": [
       "Validating: 0it [00:00, ?it/s]"
      ]
     },
     "metadata": {},
     "output_type": "display_data"
    },
    {
     "data": {
      "text/plain": [
       "1"
      ]
     },
     "execution_count": 226,
     "metadata": {},
     "output_type": "execute_result"
    }
   ],
   "source": [
    "model = Regression()\n",
    "trainer = Trainer(max_epochs = 50)  # Option to check if it's working at all: fast_dev_run=True \n",
    "                                    # Option to implement early stopping: early_stop_callback=True\n",
    "trainer.fit(model)"
   ]
  },
  {
   "cell_type": "code",
   "execution_count": 227,
   "metadata": {},
   "outputs": [
    {
     "name": "stderr",
     "output_type": "stream",
     "text": [
      "/Library/anaconda3/lib/python3.7/site-packages/pytorch_lightning/utilities/distributed.py:52: UserWarning: The dataloader, test dataloader 0, does not have many workers which may be a bottleneck. Consider increasing the value of the `num_workers` argument` (try 8 which is the number of cpus on this machine) in the `DataLoader` init to improve performance.\n",
      "  warnings.warn(*args, **kwargs)\n"
     ]
    },
    {
     "data": {
      "application/vnd.jupyter.widget-view+json": {
       "model_id": "46c1ff91bb1b4269ba926c8250c90733",
       "version_major": 2,
       "version_minor": 0
      },
      "text/plain": [
       "Testing: 0it [00:00, ?it/s]"
      ]
     },
     "metadata": {},
     "output_type": "display_data"
    },
    {
     "name": "stdout",
     "output_type": "stream",
     "text": [
      "--------------------------------------------------------------------------------\n",
      "DATALOADER:0 TEST RESULTS\n",
      "{'avg_test_loss': 0.47027716040611267, 'test_loss': 0.47027716040611267}\n",
      "--------------------------------------------------------------------------------\n"
     ]
    },
    {
     "name": "stderr",
     "output_type": "stream",
     "text": [
      "/Library/anaconda3/lib/python3.7/site-packages/pytorch_lightning/utilities/distributed.py:52: UserWarning: The testing_epoch_end should not return anything as of 9.1. To log, use self.log(...) or self.write(...) directly in the LightningModule\n",
      "  warnings.warn(*args, **kwargs)\n",
      "/Library/anaconda3/lib/python3.7/site-packages/pytorch_lightning/utilities/distributed.py:52: UserWarning: The {progress_bar:dict keyword} was deprecated in 0.9.1 and will be removed in 1.0.0\n",
      "Please use self.log(...) inside the lightningModule instead.\n",
      "# log on a step or aggregate epoch metric to the logger and/or progress bar (inside LightningModule)\n",
      "self.log('train_loss', loss, on_step=True, on_epoch=True, prog_bar=True)\n",
      "  warnings.warn(*args, **kwargs)\n"
     ]
    },
    {
     "data": {
      "text/plain": [
       "[{'test_loss': 0.47027716040611267, 'avg_test_loss': 0.47027716040611267}]"
      ]
     },
     "execution_count": 227,
     "metadata": {},
     "output_type": "execute_result"
    }
   ],
   "source": [
    "# 1. 查看我创建的神经网络结构\n",
    "model.eval()\n",
    "\n",
    "# 2. 两个list分别接收测试的【预测值】和【实际值】\n",
    "predictions_pred = []\n",
    "predictions_actual = []\n",
    "predictions_pred2 = []\n",
    "predictions_actual2 = []\n",
    "\n",
    "# 3. 查看损失\n",
    "trainer.test()"
   ]
  },
  {
   "cell_type": "code",
   "execution_count": 228,
   "metadata": {
    "scrolled": true
   },
   "outputs": [
    {
     "name": "stdout",
     "output_type": "stream",
     "text": [
      "模糊准确率:  0.906638714185884\n",
      "精确准确率:  0.46820405310971347\n"
     ]
    }
   ],
   "source": [
    "# 4. 验证准确度\n",
    "# 将scoring测试数据转变回正常的纬度\n",
    "mean = scaled_features['scoring'][0]\n",
    "std = scaled_features['scoring'][1]\n",
    "\n",
    "# Get predicted points (scaled back to their original size)\n",
    "plot_pred = []\n",
    "for i in range(len(predictions_pred)):\n",
    "    plot_pred.extend(predictions_pred[i].T.numpy()[0] * std + mean)\n",
    "\n",
    "# Get actual points (scaled back to their original size)\n",
    "plot_actual = []\n",
    "for i in range(len(predictions_actual)):\n",
    "    plot_actual.extend(predictions_actual[i].T.numpy()[0] * std + mean)\n",
    "\n",
    "# (1)对预测结果四舍五入，再与真实值进行比较\n",
    "# (2)直接与真实值比较\n",
    "correct = 0\n",
    "correct2 = 0\n",
    "for k in range(len(plot_pred)):\n",
    "    if (round(plot_pred[k]) == plot_actual[k]) or (round(plot_pred[k]) == plot_actual[k]+1) or (round(plot_pred[k]) == plot_actual[k]-1):\n",
    "        correct += 1\n",
    "    if (round(plot_pred[k]) == plot_actual[k]):\n",
    "        correct2 += 1\n",
    "acc = correct / len(plot_pred)\n",
    "acc2 = correct2 / len(plot_pred)\n",
    "\n",
    "print(\"模糊准确率: \", acc)\n",
    "print(\"精确准确率: \", acc2)"
   ]
  },
  {
   "cell_type": "markdown",
   "metadata": {},
   "source": [
    "# 4. 层级反射"
   ]
  },
  {
   "cell_type": "code",
   "execution_count": 229,
   "metadata": {},
   "outputs": [
    {
     "name": "stdout",
     "output_type": "stream",
     "text": [
      "0.906638714185884\n"
     ]
    }
   ],
   "source": [
    "# 4. 验证准确度222\n",
    "# 将scoring测试数据转变回正常的纬度\n",
    "mean = scaled_features['scoring'][0]\n",
    "std = scaled_features['scoring'][1]\n",
    "\n",
    "# Get predicted points (scaled back to their original size)\n",
    "plot_pred = []\n",
    "for i in range(len(predictions_pred)):\n",
    "    plot_pred.extend(predictions_pred[i].T.numpy()[0] * std + mean)\n",
    "\n",
    "# Get actual points (scaled back to their original size)\n",
    "plot_actual = []\n",
    "for i in range(len(predictions_actual)):\n",
    "    plot_actual.extend(predictions_actual[i].T.numpy()[0] * std + mean)\n",
    "\n",
    "# 是预测结果的一级分类\n",
    "first_layer = []\n",
    "# 对预测结果四舍五入，再与真实值进行比较\n",
    "correct = 0\n",
    "for k in range(len(plot_pred)):\n",
    "    if (round(plot_pred[k]) == plot_actual[k]) or (round(plot_pred[k]) == plot_actual[k]+1) or (round(plot_pred[k]) == plot_actual[k]-1):\n",
    "        correct += 1\n",
    "    if (round(plot_pred[k]) == 22) or (round(plot_pred[k]) == 21):\n",
    "        first_layer.append(1)\n",
    "    if (round(plot_pred[k]) == 20) or (round(plot_pred[k]) == 19) or (round(plot_pred[k]) == 18):\n",
    "        first_layer.append(2)\n",
    "    if (round(plot_pred[k]) == 17) or (round(plot_pred[k]) == 16) or (round(plot_pred[k]) == 15):\n",
    "        first_layer.append(3)\n",
    "    \n",
    "acc = correct / len(plot_pred)\n",
    "print(acc)\n",
    "\n",
    "#print(plot_pred)\n",
    "#print(first_layer)"
   ]
  },
  {
   "cell_type": "code",
   "execution_count": 230,
   "metadata": {},
   "outputs": [
    {
     "name": "stdout",
     "output_type": "stream",
     "text": [
      "             0         1         2         3         4         5         6  \\\n",
      "0     0.336903  0.998120  1.629055  0.940505 -0.268621 -0.517755 -0.057535   \n",
      "1    -0.190484  0.490924  0.097195  0.130334  0.180051  1.501460 -0.050065   \n",
      "2    -0.267730 -0.220063  3.540112 -0.748126 -0.567735 -0.513075 -0.057657   \n",
      "3     0.019233 -0.466370 -0.230612 -0.436761  0.104356 -0.301793 -0.057181   \n",
      "4    -0.056595 -0.635714 -0.292746 -0.490205 -0.488378 -0.514858 -0.056966   \n",
      "...        ...       ...       ...       ...       ...       ...       ...   \n",
      "7150 -0.106925 -0.323182 -0.171771 -0.172561 -0.379720 -0.568124 -0.057534   \n",
      "7151 -0.232564 -0.857981 -0.721102 -0.777525 -0.377279 -0.405428 -0.056433   \n",
      "7152  0.586927  1.532083  2.110959  0.831476 -0.323560 -0.393616 -0.057505   \n",
      "7153  0.035187 -0.193184  0.233206 -0.310064 -0.401086 -0.563890 -0.057526   \n",
      "7154  0.063262 -0.440103 -0.546321 -0.287236 -0.502418 -0.610470 -0.057569   \n",
      "\n",
      "             7         8         9  ...        15        16        17  \\\n",
      "0    -0.048850 -0.742215  2.406805  ... -0.443056  0.011661  0.030418   \n",
      "1    -0.038575 -0.015603 -0.719139  ... -0.496680  0.008660  0.137233   \n",
      "2    -0.033476 -0.498447 -0.007741  ... -1.357019  0.016487  0.029004   \n",
      "3    -0.046595  0.141635 -0.209485  ...  0.261932 -0.031294  0.001867   \n",
      "4    -0.048941 -0.370399 -0.691354  ... -0.928899 -0.018941  0.052065   \n",
      "...        ...       ...       ...  ...       ...       ...       ...   \n",
      "7150 -0.049142 -0.715358  1.647467  ... -0.491528  0.019005  0.028965   \n",
      "7151 -0.049143 -0.360498 -0.195782  ... -0.315326  0.015222  0.057491   \n",
      "7152 -0.044820 -0.332688 -0.295268  ...  1.113518  0.047731  0.022503   \n",
      "7153 -0.049260 -0.457002  0.528521  ... -0.080727  0.017434  0.029728   \n",
      "7154 -0.049368 -0.233450  3.325336  ...  0.665745  0.015759  0.028565   \n",
      "\n",
      "            18        19        20        21        22    result  first_layer  \n",
      "0    -0.019768 -0.169065 -0.263561 -0.611058 -0.325029 -1.468863            2  \n",
      "1    -0.051455  0.751286  1.909098 -0.313043 -0.960096 -1.468863            1  \n",
      "2    -0.023458  1.365733 -0.263561 -0.881699  0.575209  1.649515            2  \n",
      "3     0.026267 -0.643358  0.831429 -0.625318 -0.234098 -0.689268            2  \n",
      "4    -0.000441 -0.784861 -0.530466 -1.022663 -1.265197 -0.689268            2  \n",
      "...        ...       ...       ...       ...       ...       ...          ...  \n",
      "7150 -0.025606 -0.833767  0.276616 -0.675969  1.069795  0.090326            2  \n",
      "7151 -0.031509 -0.685751  0.000191  1.317847 -0.054595 -0.689268            2  \n",
      "7152 -0.048195  2.873164  0.286186  0.791855 -1.670395 -0.689268            2  \n",
      "7153 -0.024502  1.365733 -0.263561 -0.881699  0.668681  1.649515            2  \n",
      "7154 -0.022692 -0.871669  1.090063 -0.521755  0.174095 -0.689268            2  \n",
      "\n",
      "[7155 rows x 25 columns]\n"
     ]
    }
   ],
   "source": [
    "x['result'] = df_ori[titles[23]].values.tolist()\n",
    "x['first_layer'] = first_layer\n",
    "print(x)"
   ]
  },
  {
   "cell_type": "code",
   "execution_count": 231,
   "metadata": {},
   "outputs": [
    {
     "name": "stdout",
     "output_type": "stream",
     "text": [
      "0      -1.468863\n",
      "2       1.649515\n",
      "3      -0.689268\n",
      "4      -0.689268\n",
      "5       0.090326\n",
      "          ...   \n",
      "7150    0.090326\n",
      "7151   -0.689268\n",
      "7152   -0.689268\n",
      "7153    1.649515\n",
      "7154   -0.689268\n",
      "Name: result, Length: 6766, dtype: float64\n"
     ]
    }
   ],
   "source": [
    "AAA = x.query('first_layer == 1')\n",
    "AA = x.query('first_layer == 2')\n",
    "A = x.query('first_layer == 3')\n",
    "print( AA['result'])"
   ]
  },
  {
   "cell_type": "code",
   "execution_count": 232,
   "metadata": {},
   "outputs": [
    {
     "name": "stdout",
     "output_type": "stream",
     "text": [
      "feature name:  [0, 1, 2, 3, 4, 5, 6, 7, 8, 9, 10, 11, 12, 13, 14, 15, 16, 17, 18, 19, 20, 21, 22]\n"
     ]
    },
    {
     "data": {
      "text/plain": [
       "0.6052009456264775"
      ]
     },
     "execution_count": 232,
     "metadata": {},
     "output_type": "execute_result"
    }
   ],
   "source": [
    "# 2. 分割数据集，一部分测试一部分训练，数据集的分割，分为训练集和测试集\n",
    "tmp1 = AA[range(23)].values.tolist()\n",
    "tmp2 = AA['result'].values.tolist()\n",
    "x_train, x_test, y_train, y_test = train_test_split(pd.DataFrame(tmp1), pd.DataFrame(tmp2), test_size=0.25)\n",
    "dict = DictVectorizer(sparse=False)                             # 进行特征工程的处理，将数据集变换成one-hot形式\n",
    "x_train = dict.fit_transform(x_train.to_dict(orient=\"records\")) # 将列表转换为一个个字典形式，因为DictVectorizer(）中接收的是字典形式\n",
    "print(\"feature name: \",dict.get_feature_names())\n",
    "x_test = dict.transform(x_test.to_dict(orient=\"records\"))\n",
    "tre=DecisionTreeClassifier()  # 用决策树预测\n",
    "tre.fit(x_train.astype('int'),y_train.astype('int'))\n",
    "\n",
    "# 3. 输出准确度\n",
    "#cross_val_score(tre, x_test, y_test.astype('int'), cv=10)\n",
    "tre.score(x_test, y_test.astype('int'))\n"
   ]
  },
  {
   "cell_type": "code",
   "execution_count": null,
   "metadata": {},
   "outputs": [],
   "source": []
  }
 ],
 "metadata": {
  "kernelspec": {
   "display_name": "Python 3",
   "language": "python",
   "name": "python3"
  },
  "language_info": {
   "codemirror_mode": {
    "name": "ipython",
    "version": 3
   },
   "file_extension": ".py",
   "mimetype": "text/x-python",
   "name": "python",
   "nbconvert_exporter": "python",
   "pygments_lexer": "ipython3",
   "version": "3.7.4"
  }
 },
 "nbformat": 4,
 "nbformat_minor": 2
}
