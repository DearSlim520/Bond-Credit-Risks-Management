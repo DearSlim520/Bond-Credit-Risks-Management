{
 "cells": [
  {
   "cell_type": "markdown",
   "metadata": {},
   "source": [
    "# 二、（信用利差 -> 信用风险）相关性测试"
   ]
  },
  {
   "cell_type": "code",
   "execution_count": 5,
   "metadata": {},
   "outputs": [],
   "source": [
    "import numpy as np\n",
    "import pandas as pd\n",
    "import matplotlib.pyplot as plt \n",
    "import seaborn as sns \n",
    "from textblob import TextBlob \n",
    "import matplotlib\n",
    "%matplotlib inline\n",
    "import warnings \n",
    "warnings.filterwarnings(\"ignore\")\n",
    "import random\n",
    "import jieba\n",
    "import re\n",
    "from zhon.hanzi import punctuation\n",
    "import scipy.stats as stats"
   ]
  },
  {
   "cell_type": "markdown",
   "metadata": {},
   "source": [
    "## 1. 读取数据"
   ]
  },
  {
   "cell_type": "code",
   "execution_count": 6,
   "metadata": {},
   "outputs": [
    {
     "data": {
      "text/html": [
       "<div>\n",
       "<style scoped>\n",
       "    .dataframe tbody tr th:only-of-type {\n",
       "        vertical-align: middle;\n",
       "    }\n",
       "\n",
       "    .dataframe tbody tr th {\n",
       "        vertical-align: top;\n",
       "    }\n",
       "\n",
       "    .dataframe thead th {\n",
       "        text-align: right;\n",
       "    }\n",
       "</style>\n",
       "<table border=\"1\" class=\"dataframe\">\n",
       "  <thead>\n",
       "    <tr style=\"text-align: right;\">\n",
       "      <th></th>\n",
       "      <th>债券简称</th>\n",
       "      <th>发行票面利率</th>\n",
       "      <th>Spread</th>\n",
       "      <th>Platform Rating</th>\n",
       "    </tr>\n",
       "  </thead>\n",
       "  <tbody>\n",
       "    <tr>\n",
       "      <td>0</td>\n",
       "      <td>07宜城投债</td>\n",
       "      <td>6.08</td>\n",
       "      <td>1.6295</td>\n",
       "      <td>AA-</td>\n",
       "    </tr>\n",
       "    <tr>\n",
       "      <td>1</td>\n",
       "      <td>15安庆城投MTN001</td>\n",
       "      <td>5.40</td>\n",
       "      <td>2.0132</td>\n",
       "      <td>AA</td>\n",
       "    </tr>\n",
       "    <tr>\n",
       "      <td>2</td>\n",
       "      <td>15宜城投债</td>\n",
       "      <td>6.01</td>\n",
       "      <td>1.3822</td>\n",
       "      <td>AA</td>\n",
       "    </tr>\n",
       "    <tr>\n",
       "      <td>3</td>\n",
       "      <td>19安经开MTN001</td>\n",
       "      <td>6.30</td>\n",
       "      <td>3.2480</td>\n",
       "      <td>AA</td>\n",
       "    </tr>\n",
       "    <tr>\n",
       "      <td>4</td>\n",
       "      <td>20皖江高科债</td>\n",
       "      <td>4.97</td>\n",
       "      <td>1.7780</td>\n",
       "      <td>AA</td>\n",
       "    </tr>\n",
       "  </tbody>\n",
       "</table>\n",
       "</div>"
      ],
      "text/plain": [
       "           债券简称  发行票面利率  Spread Platform Rating\n",
       "0        07宜城投债    6.08  1.6295             AA-\n",
       "1  15安庆城投MTN001    5.40  2.0132              AA\n",
       "2        15宜城投债    6.01  1.3822              AA\n",
       "3   19安经开MTN001    6.30  3.2480              AA\n",
       "4       20皖江高科债    4.97  1.7780              AA"
      ]
     },
     "execution_count": 6,
     "metadata": {},
     "output_type": "execute_result"
    }
   ],
   "source": [
    "# 从⽂文件中读取原始数据\n",
    "file_spread = '../数据集/A信用利差验证.xlsx'\n",
    "df=pd.read_excel(file_spread)\n",
    "rating = df['Platform Rating'].values.tolist() #\n",
    "spread = df['Spread'].values.tolist()\n",
    "df.head()"
   ]
  },
  {
   "cell_type": "markdown",
   "metadata": {},
   "source": [
    "## 2. 量化风险评级"
   ]
  },
  {
   "cell_type": "code",
   "execution_count": 7,
   "metadata": {},
   "outputs": [],
   "source": [
    "# 量化字母评级：A～C,数据集中不存在B-以下的数据\n",
    "# AAA AA A BBB BB B\n",
    "# (AAA AAA-, AA+ AA AA-, A+ A A-) (BBB+ BBB BBB-, BB+ BB BB-, B+ B B-) (CCC+, CCC, CCC-, CC, CC)\n",
    "\n",
    "#创建评级量化字典\n",
    "dict = {'AAA': 21, 'AAA-': 20, \n",
    "        'AA+': 19,'AA': 18,'AA-': 17,\n",
    "        'A+': 16, 'A': 15, 'A-': 14, \n",
    "        'BBB+': 13, 'BBB': 12, 'BBB-': 11,\n",
    "        'BB+': 10, 'BB': 9, 'BB-': 8,\n",
    "        'B+': 7, 'B': 6, 'B-': 5, \n",
    "        'CCC+': 4, 'CCC': 3, 'CCC-': 2, 'CC': 1, 'C': 0}  \n",
    "\n",
    "#创建数组list装评级对应数值\n",
    "r_value = []             #\n",
    "i=0\n",
    "for r in rating:\n",
    "    data = dict.get(r)\n",
    "    #print(data)\n",
    "    r_value.append(data)"
   ]
  },
  {
   "cell_type": "code",
   "execution_count": 8,
   "metadata": {},
   "outputs": [
    {
     "name": "stdout",
     "output_type": "stream",
     "text": [
      "相关系数 -0.3438051543461877\n",
      "p-value 0.00046139340435683224\n"
     ]
    }
   ],
   "source": [
    "correlation = stats.spearmanr(spread, r_value)\n",
    "print('相关系数',correlation[0])      #信用利差与信用风险呈负相关\n",
    "print('p-value',correlation[1])      #不相关概率极小 -> 相关性很高"
   ]
  },
  {
   "cell_type": "code",
   "execution_count": null,
   "metadata": {},
   "outputs": [],
   "source": []
  }
 ],
 "metadata": {
  "kernelspec": {
   "display_name": "Python 3",
   "language": "python",
   "name": "python3"
  },
  "language_info": {
   "codemirror_mode": {
    "name": "ipython",
    "version": 3
   },
   "file_extension": ".py",
   "mimetype": "text/x-python",
   "name": "python",
   "nbconvert_exporter": "python",
   "pygments_lexer": "ipython3",
   "version": "3.7.4"
  }
 },
 "nbformat": 4,
 "nbformat_minor": 2
}
